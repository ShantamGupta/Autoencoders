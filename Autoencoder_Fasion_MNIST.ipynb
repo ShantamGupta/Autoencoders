{
 "cells": [
  {
   "cell_type": "markdown",
   "metadata": {},
   "source": [
    "## Problem 3"
   ]
  },
  {
   "cell_type": "markdown",
   "metadata": {},
   "source": [
    "## For  20NG TF as an autoencoder with a desired hidden layer size (try K=20, 100, 200). Verify the obtained reencoding of data (the new feature representation) in several ways: "
   ]
  },
  {
   "cell_type": "code",
   "execution_count": 2,
   "metadata": {
    "collapsed": true
   },
   "outputs": [],
   "source": [
    "import numpy as np\n",
    "from sklearn import datasets\n",
    "import mnist \n",
    "import tensorflow as tf\n",
    "from sklearn.preprocessing import OneHotEncoder\n",
    "import random\n",
    "import mnist\n",
    "from sklearn.feature_extraction.text import TfidfVectorizer\n",
    "from sklearn import tree\n",
    "import matplotlib.pyplot as plt \n",
    "%matplotlib inline"
   ]
  },
  {
   "cell_type": "markdown",
   "metadata": {},
   "source": [
    "# Loading the input data"
   ]
  },
  {
   "cell_type": "code",
   "execution_count": 3,
   "metadata": {},
   "outputs": [
    {
     "name": "stderr",
     "output_type": "stream",
     "text": [
      "C:\\Users\\Shantam Gupta\\Anaconda3\\lib\\site-packages\\h5py\\__init__.py:34: FutureWarning: Conversion of the second argument of issubdtype from `float` to `np.floating` is deprecated. In future, it will be treated as `np.float64 == np.dtype(float).type`.\n",
      "  from ._conv import register_converters as _register_converters\n"
     ]
    },
    {
     "name": "stdout",
     "output_type": "stream",
     "text": [
      "Extracting C:/Users/Shantam Gupta/Desktop/MS in DS/Unsupervised ML- DS 5230/Fashion-mnist\\train-images-idx3-ubyte.gz\n",
      "Extracting C:/Users/Shantam Gupta/Desktop/MS in DS/Unsupervised ML- DS 5230/Fashion-mnist\\train-labels-idx1-ubyte.gz\n",
      "Extracting C:/Users/Shantam Gupta/Desktop/MS in DS/Unsupervised ML- DS 5230/Fashion-mnist\\t10k-images-idx3-ubyte.gz\n",
      "Extracting C:/Users/Shantam Gupta/Desktop/MS in DS/Unsupervised ML- DS 5230/Fashion-mnist\\t10k-labels-idx1-ubyte.gz\n"
     ]
    }
   ],
   "source": [
    "#training data \n",
    "\n",
    "\n",
    "from tensorflow.examples.tutorials.mnist import input_data\n",
    "data = input_data.read_data_sets('C:/Users/Shantam Gupta/Desktop/MS in DS/Unsupervised ML- DS 5230/Fashion-mnist')\n",
    "\n",
    "\n",
    "#Train data \n",
    "X_train = data.train.images\n",
    "Y_train = data.train.labels\n",
    "\n",
    "#Test Data \n",
    "X_test = data.test.images\n",
    "Y_test= data.test.labels\n",
    "\n",
    "Y_train = np.eye(10)[data.train.labels]\n",
    "Y_test = np.eye(10)[data.test.labels]\n"
   ]
  },
  {
   "cell_type": "code",
   "execution_count": 4,
   "metadata": {},
   "outputs": [
    {
     "data": {
      "text/plain": [
       "((55000, 784), (55000, 10), (10000, 784), (10000, 10))"
      ]
     },
     "execution_count": 4,
     "metadata": {},
     "output_type": "execute_result"
    }
   ],
   "source": [
    "X_train.shape, Y_train.shape, X_test.shape,Y_test.shape"
   ]
  },
  {
   "cell_type": "markdown",
   "metadata": {},
   "source": [
    "## Bulding Model  "
   ]
  },
  {
   "cell_type": "code",
   "execution_count": 5,
   "metadata": {},
   "outputs": [
    {
     "name": "stdout",
     "output_type": "stream",
     "text": [
      "Train Accuracy using Decision Trees: 1.0\n",
      "Test Accuracy using Decision Trees: 0.7916\n"
     ]
    }
   ],
   "source": [
    "#Building the Decision Tree Model\n",
    "clf = tree.DecisionTreeClassifier()\n",
    "clf.fit(X_train,Y_train)\n",
    "\n",
    "#Accuracy on test data\n",
    "print(\"Train Accuracy using Decision Trees:\",clf.score(X_train,Y_train))\n",
    "\n",
    "#Accuracy on test data\n",
    "print(\"Test Accuracy using Decision Trees:\",clf.score(X_test,Y_test))"
   ]
  },
  {
   "cell_type": "markdown",
   "metadata": {},
   "source": [
    "## Input & Output Placeholders"
   ]
  },
  {
   "cell_type": "markdown",
   "metadata": {},
   "source": [
    "## K = 20"
   ]
  },
  {
   "cell_type": "code",
   "execution_count": 6,
   "metadata": {
    "collapsed": true
   },
   "outputs": [],
   "source": [
    "inputs = 784\n",
    "hidden_layer1_units = 20\n",
    "output_layer_units = inputs"
   ]
  },
  {
   "cell_type": "code",
   "execution_count": 7,
   "metadata": {
    "collapsed": true
   },
   "outputs": [],
   "source": [
    "X = tf.placeholder(tf.float32, shape = [None, inputs])#flattened shape"
   ]
  },
  {
   "cell_type": "markdown",
   "metadata": {},
   "source": [
    "### Softmax Activation\n",
    "$\\Pr{(Y=j | X)}  = \\frac{e^{(X.W_j^T + B_j)}}{\\sum\\limits_{i = 1}^n {e^{(X.W_i^T + B_i)}}} $"
   ]
  },
  {
   "cell_type": "code",
   "execution_count": 8,
   "metadata": {
    "collapsed": true
   },
   "outputs": [],
   "source": [
    "tf.set_random_seed(42)\n",
    "W = {\n",
    "    'encoder_h1': tf.Variable(tf.random_normal([inputs, hidden_layer1_units])),\n",
    "    'decoder_h1':tf.Variable(tf.random_normal([hidden_layer1_units, output_layer_units]))\n",
    "}\n",
    "\n",
    "B = {\n",
    "    'encoder_h1':tf.Variable(tf.random_normal([hidden_layer1_units])),\n",
    "    'decoder_h1':tf.Variable(tf.random_normal([output_layer_units]))\n",
    "}"
   ]
  },
  {
   "cell_type": "code",
   "execution_count": 9,
   "metadata": {
    "collapsed": true
   },
   "outputs": [],
   "source": [
    "encoder = tf.matmul(X,W['encoder_h1']) +  B['encoder_h1']\n",
    "encoder = tf.sigmoid(encoder) # using sigmoid activation\n",
    "decoder = tf.matmul(encoder,W['decoder_h1'])  + B['decoder_h1']\n",
    "decoder = tf.sigmoid(decoder) # using sigmoid activation"
   ]
  },
  {
   "cell_type": "markdown",
   "metadata": {},
   "source": [
    "## Cost function: Cross Entropy\n",
    "## Optimizer : Adam "
   ]
  },
  {
   "cell_type": "code",
   "execution_count": 10,
   "metadata": {
    "collapsed": true
   },
   "outputs": [],
   "source": [
    "epochs = 10\n",
    "batch_size = 256\n",
    "learning_rate = 0.01"
   ]
  },
  {
   "cell_type": "code",
   "execution_count": 11,
   "metadata": {
    "collapsed": true
   },
   "outputs": [],
   "source": [
    "Y = X\n",
    "loss = tf.reduce_mean(tf.pow(decoder - Y, 2))\n",
    "optimizer = tf.train.AdamOptimizer(learning_rate=learning_rate).minimize(loss)"
   ]
  },
  {
   "cell_type": "markdown",
   "metadata": {},
   "source": [
    "## Evaluating"
   ]
  },
  {
   "cell_type": "code",
   "execution_count": 12,
   "metadata": {
    "collapsed": true
   },
   "outputs": [],
   "source": [
    "def get_batches(batch_size,x):\n",
    "        indexes = list(range(x.shape[0]))\n",
    "        random.shuffle(indexes)\n",
    "        ind = indexes[:batch_size]\n",
    "        return(x[ind])"
   ]
  },
  {
   "cell_type": "code",
   "execution_count": 13,
   "metadata": {},
   "outputs": [
    {
     "name": "stdout",
     "output_type": "stream",
     "text": [
      "\n",
      " Epoch: 1 \t Average Train Eror: 0.05305397757911123\n",
      "\n",
      " Test Error 0.05266911\n",
      "\n",
      " Epoch: 6 \t Average Train Eror: 0.033206059015356004\n",
      "\n",
      " Test Error 0.033421453\n"
     ]
    }
   ],
   "source": [
    "with tf.Session() as sess:\n",
    "    sess.run(tf.global_variables_initializer())\n",
    "    for epoch in range(epochs):\n",
    "        train_c = 0                                                       #cost\n",
    "        total_batch = int(X_train.shape[0]/batch_size)\n",
    "        for i in range(total_batch):\n",
    "            batch_x = get_batches(batch_size, X_train)\n",
    "            _,train_c = sess.run([optimizer, loss], feed_dict = {X: batch_x})\n",
    "            train_c += train_c/batch_size    \n",
    "        if epoch % 5 == 0:\n",
    "            print(\"\\n Epoch:\",epoch+1,\"\\t Average Train Eror:\",train_c)  \n",
    "            test_c = sess.run(loss,feed_dict = {X:X_test})\n",
    "            print(\"\\n Test Error\", test_c)    \n",
    "    encoder_train, decoder_train = sess.run([encoder,decoder],feed_dict = {X:X_train})\n",
    "    encoder_test, decoder_test = sess.run([encoder,decoder],feed_dict = {X:X_test}) "
   ]
  },
  {
   "cell_type": "code",
   "execution_count": 14,
   "metadata": {},
   "outputs": [
    {
     "data": {
      "text/plain": [
       "((55000, 20), (55000, 784), (10000, 20), (10000, 784))"
      ]
     },
     "execution_count": 14,
     "metadata": {},
     "output_type": "execute_result"
    }
   ],
   "source": [
    " encoder_train.shape, decoder_train.shape, encoder_test.shape, decoder_test.shape"
   ]
  },
  {
   "cell_type": "code",
   "execution_count": 15,
   "metadata": {},
   "outputs": [
    {
     "data": {
      "text/plain": [
       "<matplotlib.image.AxesImage at 0x2b8b7e99b00>"
      ]
     },
     "execution_count": 15,
     "metadata": {},
     "output_type": "execute_result"
    },
    {
     "data": {
      "image/png": "[encoded data removed]",
      "text/plain": [
       "<matplotlib.figure.Figure at 0x2b8b7db9c18>"
      ]
     },
     "metadata": {},
     "output_type": "display_data"
    }
   ],
   "source": [
    "#Test Data \n",
    "i = 2\n",
    "plt.subplot(1,2,1)\n",
    "plt.title(\"Original Image\")\n",
    "plt.imshow(X_train[i].reshape(28,28))\n",
    "plt.subplot(1,2,2)\n",
    "plt.title(\"Encoded - Decoded Image\")\n",
    "img = decoder_train[i].reshape(28,28)\n",
    "plt.imshow(img)"
   ]
  },
  {
   "cell_type": "code",
   "execution_count": 16,
   "metadata": {},
   "outputs": [
    {
     "data": {
      "text/plain": [
       "<matplotlib.image.AxesImage at 0x2b8b7f0ba90>"
      ]
     },
     "execution_count": 16,
     "metadata": {},
     "output_type": "execute_result"
    },
    {
     "data": {
      "image/png": "[encoded data removed]",
      "text/plain": [
       "<matplotlib.figure.Figure at 0x2b8b7db9fd0>"
      ]
     },
     "metadata": {},
     "output_type": "display_data"
    }
   ],
   "source": [
    "#Test Data \n",
    "i = 2\n",
    "plt.subplot(1,2,1)\n",
    "plt.title(\"Original Image\")\n",
    "plt.imshow(X_test[i].reshape(28,28))\n",
    "plt.subplot(1,2,2)\n",
    "plt.title(\"Encoded - Decoded Image\")\n",
    "img = decoder_test[i].reshape(28,28)\n",
    "plt.imshow(img)"
   ]
  },
  {
   "cell_type": "markdown",
   "metadata": {},
   "source": [
    "## Building Model with reduced dimensions k = 20"
   ]
  },
  {
   "cell_type": "code",
   "execution_count": 17,
   "metadata": {},
   "outputs": [
    {
     "name": "stdout",
     "output_type": "stream",
     "text": [
      "Train Accuracy using Decision Trees: 1.0\n",
      "Test Accuracy using Decision Trees: 0.6737\n"
     ]
    }
   ],
   "source": [
    "#Building the Decision Tree Model\n",
    "clf = tree.DecisionTreeClassifier()\n",
    "clf.fit(encoder_train,Y_train)\n",
    "\n",
    "#Accuracy on test data\n",
    "print(\"Train Accuracy using Decision Trees:\",clf.score(encoder_train,Y_train))\n",
    "\n",
    "#Accuracy on test data\n",
    "print(\"Test Accuracy using Decision Trees:\",clf.score(encoder_test,Y_test))"
   ]
  },
  {
   "cell_type": "markdown",
   "metadata": {},
   "source": [
    "## k = 100"
   ]
  },
  {
   "cell_type": "code",
   "execution_count": 18,
   "metadata": {},
   "outputs": [
    {
     "name": "stdout",
     "output_type": "stream",
     "text": [
      "\n",
      " Epoch: 1 \t Average Train Eror: 0.09033134788274765\n",
      "\n",
      " Test Error 0.08698132\n",
      "\n",
      " Epoch: 6 \t Average Train Eror: 0.045268278494477274\n",
      "\n",
      " Test Error 0.045523237\n"
     ]
    }
   ],
   "source": [
    "inputs = 784\n",
    "hidden_layer1_units = 100\n",
    "output_layer_units = inputs\n",
    "epochs = 10\n",
    "batch_size = 100\n",
    "learning_rate = 0.001\n",
    "\n",
    "X = tf.placeholder(tf.float32, shape = [None, inputs]) #flattened shape\n",
    "\n",
    "tf.set_random_seed(42)\n",
    "W = {\n",
    "    'encoder_h1': tf.Variable(tf.random_normal([inputs, hidden_layer1_units])),\n",
    "    'decoder_h1':tf.Variable(tf.random_normal([hidden_layer1_units, output_layer_units]))\n",
    "}\n",
    "\n",
    "B = {\n",
    "    'encoder_h1':tf.Variable(tf.random_normal([hidden_layer1_units])),\n",
    "    'decoder_h1':tf.Variable(tf.random_normal([output_layer_units]))\n",
    "}\n",
    "\n",
    "\n",
    "encoder = tf.matmul(X,W['encoder_h1']) +  B['encoder_h1']\n",
    "encoder = tf.sigmoid(encoder) # using sigmoid activation\n",
    "decoder = tf.matmul(encoder,W['decoder_h1'])  + B['decoder_h1']\n",
    "decoder = tf.sigmoid(decoder) # using sigmoid activation\n",
    "\n",
    "Y = X\n",
    "loss = tf.reduce_mean(tf.pow(decoder - Y, 2))\n",
    "optimizer = tf.train.AdamOptimizer(learning_rate=learning_rate).minimize(loss)\n",
    "\n",
    "def get_batches(batch_size,x):\n",
    "        indexes = list(range(x.shape[0]))\n",
    "        random.shuffle(indexes)\n",
    "        ind = indexes[:batch_size]\n",
    "        return(x[ind])\n",
    "\n",
    "with tf.Session() as sess:\n",
    "    sess.run(tf.global_variables_initializer())\n",
    "    for epoch in range(epochs):\n",
    "        train_c = 0                                                       #cost\n",
    "        total_batch = int(X_train.shape[0]/batch_size)\n",
    "        for i in range(total_batch):\n",
    "            batch_x = get_batches(batch_size, X_train)\n",
    "            _,train_c = sess.run([optimizer, loss], feed_dict = {X: batch_x})\n",
    "            train_c += train_c/batch_size    \n",
    "        if epoch % 5 == 0:\n",
    "            print(\"\\n Epoch:\",epoch+1,\"\\t Average Train Eror:\",train_c)  \n",
    "            test_c = sess.run(loss,feed_dict = {X:X_test})\n",
    "            print(\"\\n Test Error\", test_c)    \n",
    "    encoder_train_100, decoder_train_100 = sess.run([encoder,decoder],feed_dict = {X:X_train})\n",
    "    encoder_test_100, decoder_test_100 = sess.run([encoder,decoder],feed_dict = {X:X_test}) "
   ]
  },
  {
   "cell_type": "code",
   "execution_count": 19,
   "metadata": {},
   "outputs": [
    {
     "data": {
      "text/plain": [
       "((55000, 100), (55000, 784), (10000, 100), (10000, 784))"
      ]
     },
     "execution_count": 19,
     "metadata": {},
     "output_type": "execute_result"
    }
   ],
   "source": [
    "encoder_train_100.shape, decoder_train_100.shape,encoder_test_100.shape, decoder_test_100.shape"
   ]
  },
  {
   "cell_type": "markdown",
   "metadata": {},
   "source": [
    "## Building Model with reduced dimensions k = 100"
   ]
  },
  {
   "cell_type": "code",
   "execution_count": 20,
   "metadata": {},
   "outputs": [
    {
     "name": "stdout",
     "output_type": "stream",
     "text": [
      "Train Accuracy using Decision Trees: 1.0\n",
      "Test Accuracy using Decision Trees: 0.7143\n"
     ]
    }
   ],
   "source": [
    "#Building the Decision Tree Model\n",
    "clf = tree.DecisionTreeClassifier()\n",
    "clf.fit(encoder_train_100,Y_train)\n",
    "\n",
    "#Accuracy on test data\n",
    "print(\"Train Accuracy using Decision Trees:\",clf.score(encoder_train_100,Y_train))\n",
    "\n",
    "#Accuracy on test data\n",
    "print(\"Test Accuracy using Decision Trees:\",clf.score(encoder_test_100,Y_test))"
   ]
  },
  {
   "cell_type": "code",
   "execution_count": 21,
   "metadata": {},
   "outputs": [
    {
     "data": {
      "text/plain": [
       "<matplotlib.image.AxesImage at 0x2b8b8641400>"
      ]
     },
     "execution_count": 21,
     "metadata": {},
     "output_type": "execute_result"
    },
    {
     "data": {
      "image/png": "[encoded data removed]",
      "text/plain": [
       "<matplotlib.figure.Figure at 0x2b8b7db99e8>"
      ]
     },
     "metadata": {},
     "output_type": "display_data"
    }
   ],
   "source": [
    "#train Data\n",
    "i = 1\n",
    "plt.subplot(1,2,1)\n",
    "plt.title(\"Original Image\")\n",
    "plt.imshow(X_train[i].reshape(28,28))\n",
    "\n",
    "plt.subplot(1,2,2)\n",
    "plt.title(\"Encoded - Decoded Image\")\n",
    "img = decoder_train_100[i].reshape(28,28)\n",
    "plt.imshow(img)"
   ]
  },
  {
   "cell_type": "code",
   "execution_count": 22,
   "metadata": {},
   "outputs": [
    {
     "data": {
      "text/plain": [
       "<matplotlib.image.AxesImage at 0x2b8bb8bc208>"
      ]
     },
     "execution_count": 22,
     "metadata": {},
     "output_type": "execute_result"
    },
    {
     "data": {
      "image/png": "[encoded data removed]",
      "text/plain": [
       "<matplotlib.figure.Figure at 0x2b8b85dbdd8>"
      ]
     },
     "metadata": {},
     "output_type": "display_data"
    }
   ],
   "source": [
    "#test Data\n",
    "i = 1\n",
    "plt.subplot(1,2,1)\n",
    "plt.title(\"Original Image\")\n",
    "plt.imshow(X_test[i].reshape(28,28))\n",
    "\n",
    "plt.subplot(1,2,2)\n",
    "plt.title(\"Encoded - Decoded Image\")\n",
    "img = decoder_test_100[i].reshape(28,28)\n",
    "plt.imshow(img)"
   ]
  },
  {
   "cell_type": "markdown",
   "metadata": {},
   "source": [
    "## K = 200"
   ]
  },
  {
   "cell_type": "code",
   "execution_count": 23,
   "metadata": {},
   "outputs": [
    {
     "name": "stdout",
     "output_type": "stream",
     "text": [
      "\n",
      " Epoch: 1 \t Average Train Eror: 0.09868791870772839\n",
      "\n",
      " Test Error 0.09685414\n",
      "\n",
      " Epoch: 6 \t Average Train Eror: 0.04993384335190058\n",
      "\n",
      " Test Error 0.055533092\n"
     ]
    }
   ],
   "source": [
    "inputs = 784\n",
    "hidden_layer1_units = 200\n",
    "output_layer_units = inputs\n",
    "epochs = 10\n",
    "batch_size = 100\n",
    "learning_rate = 0.001\n",
    "\n",
    "X = tf.placeholder(tf.float32, shape = [None, inputs]) #flattened shape\n",
    "\n",
    "tf.set_random_seed(42)\n",
    "W = {\n",
    "    'encoder_h1': tf.Variable(tf.random_normal([inputs, hidden_layer1_units])),\n",
    "    'decoder_h1':tf.Variable(tf.random_normal([hidden_layer1_units, output_layer_units]))\n",
    "}\n",
    "\n",
    "B = {\n",
    "    'encoder_h1':tf.Variable(tf.random_normal([hidden_layer1_units])),\n",
    "    'decoder_h1':tf.Variable(tf.random_normal([output_layer_units]))\n",
    "}\n",
    "\n",
    "\n",
    "encoder = tf.matmul(X,W['encoder_h1']) +  B['encoder_h1']\n",
    "encoder = tf.sigmoid(encoder) # using softmax activation\n",
    "decoder = tf.matmul(encoder,W['decoder_h1'])  + B['decoder_h1']\n",
    "decoder = tf.sigmoid(decoder) # using softmax activation\n",
    "\n",
    "Y = X\n",
    "loss = tf.reduce_mean(tf.pow(decoder - Y, 2))\n",
    "optimizer = tf.train.AdamOptimizer(learning_rate=learning_rate).minimize(loss)\n",
    "\n",
    "def get_batches(batch_size,x):\n",
    "        indexes = list(range(x.shape[0]))\n",
    "        random.shuffle(indexes)\n",
    "        ind = indexes[:batch_size]\n",
    "        return(x[ind])\n",
    "\n",
    "with tf.Session() as sess:\n",
    "    sess.run(tf.global_variables_initializer())\n",
    "    for epoch in range(epochs):\n",
    "        train_c = 0                                                       #cost\n",
    "        total_batch = int(X_train.shape[0]/batch_size)\n",
    "        for i in range(total_batch):\n",
    "            batch_x = get_batches(batch_size, X_train)\n",
    "            _,train_c = sess.run([optimizer, loss], feed_dict = {X: batch_x})\n",
    "            train_c += train_c/batch_size    \n",
    "        if epoch % 5 == 0:\n",
    "            print(\"\\n Epoch:\",epoch+1,\"\\t Average Train Eror:\",train_c)  \n",
    "            test_c = sess.run(loss,feed_dict = {X:X_test})\n",
    "            print(\"\\n Test Error\", test_c)    \n",
    "    encoder_train_200, decoder_train_200 = sess.run([encoder,decoder],feed_dict = {X:X_train})\n",
    "    encoder_test_200, decoder_test_200 = sess.run([encoder,decoder],feed_dict = {X:X_test}) "
   ]
  },
  {
   "cell_type": "code",
   "execution_count": 24,
   "metadata": {},
   "outputs": [
    {
     "data": {
      "text/plain": [
       "((55000, 200), (55000, 784))"
      ]
     },
     "execution_count": 24,
     "metadata": {},
     "output_type": "execute_result"
    }
   ],
   "source": [
    "encoder_train_200.shape, decoder_train_200.shape"
   ]
  },
  {
   "cell_type": "markdown",
   "metadata": {},
   "source": [
    "## Building Model with reduced dimensions k = 200"
   ]
  },
  {
   "cell_type": "code",
   "execution_count": 25,
   "metadata": {},
   "outputs": [
    {
     "name": "stdout",
     "output_type": "stream",
     "text": [
      "Train Accuracy using Decision Trees: 1.0\n",
      "Test Accuracy using Decision Trees: 0.721\n"
     ]
    }
   ],
   "source": [
    "#Building the Decision Tree Model\n",
    "clf = tree.DecisionTreeClassifier()\n",
    "clf.fit(encoder_train_200,Y_train)\n",
    "\n",
    "#Accuracy on test data\n",
    "print(\"Train Accuracy using Decision Trees:\",clf.score(encoder_train_200,Y_train))\n",
    "\n",
    "#Accuracy on test data\n",
    "print(\"Test Accuracy using Decision Trees:\",clf.score(encoder_test_200,Y_test))"
   ]
  },
  {
   "cell_type": "code",
   "execution_count": 26,
   "metadata": {},
   "outputs": [
    {
     "data": {
      "text/plain": [
       "<matplotlib.image.AxesImage at 0x2b8bcac29e8>"
      ]
     },
     "execution_count": 26,
     "metadata": {},
     "output_type": "execute_result"
    },
    {
     "data": {
      "image/png": "[encoded data removed]",
      "text/plain": [
       "<matplotlib.figure.Figure at 0x2b8bb90b7b8>"
      ]
     },
     "metadata": {},
     "output_type": "display_data"
    }
   ],
   "source": [
    "#train Data\n",
    "i = 1\n",
    "plt.subplot(1,2,1)\n",
    "plt.title(\"Original Image\")\n",
    "plt.imshow(X_train[i].reshape(28,28))\n",
    "\n",
    "plt.subplot(1,2,2)\n",
    "plt.title(\"Encoded - Decoded Image\")\n",
    "img = decoder_train_200[i].reshape(28,28)\n",
    "plt.imshow(img)"
   ]
  },
  {
   "cell_type": "code",
   "execution_count": 27,
   "metadata": {},
   "outputs": [
    {
     "data": {
      "text/plain": [
       "<matplotlib.image.AxesImage at 0x2b8bbaf8e80>"
      ]
     },
     "execution_count": 27,
     "metadata": {},
     "output_type": "execute_result"
    },
    {
     "data": {
      "image/png": "[encoded data removed]",
      "text/plain": [
       "<matplotlib.figure.Figure at 0x2b8bb90b860>"
      ]
     },
     "metadata": {},
     "output_type": "display_data"
    }
   ],
   "source": [
    "#test Data\n",
    "i = 1\n",
    "plt.subplot(1,2,1)\n",
    "plt.title(\"Original Image\")\n",
    "plt.imshow(X_test[i].reshape(28,28))\n",
    "\n",
    "plt.subplot(1,2,2)\n",
    "plt.title(\"Encoded - Decoded Image\")\n",
    "img = decoder_test_200[i].reshape(28,28)\n",
    "plt.imshow(img)"
   ]
  }
 ],
 "metadata": {
  "kernelspec": {
   "display_name": "Python 3",
   "language": "python",
   "name": "python3"
  },
  "language_info": {
   "codemirror_mode": {
    "name": "ipython",
    "version": 3
   },
   "file_extension": ".py",
   "mimetype": "text/x-python",
   "name": "python",
   "nbconvert_exporter": "python",
   "pygments_lexer": "ipython3",
   "version": "3.5.3"
  }
 },
 "nbformat": 4,
 "nbformat_minor": 2
}
